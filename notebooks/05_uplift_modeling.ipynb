{
 "cells": [
  {
   "cell_type": "markdown",
   "id": "cd946d3c",
   "metadata": {},
   "source": [
    "# Uplift Modeling using CausalML"
   ]
  },
  {
   "cell_type": "code",
   "execution_count": null,
   "id": "43f8b1aa",
   "metadata": {},
   "outputs": [],
   "source": [
    "from causalml.inference.tree import UpliftTreeClassifier\n",
    "from causalml.dataset import synthetic_data"
   ]
  },
  {
   "cell_type": "code",
   "execution_count": null,
   "id": "1997a0d6",
   "metadata": {},
   "outputs": [],
   "source": [
    "X, treatment, y = synthetic_data(mode=0)"
   ]
  },
  {
   "cell_type": "code",
   "execution_count": null,
   "id": "93390d82",
   "metadata": {},
   "outputs": [],
   "source": [
    "model = UpliftTreeClassifier(max_depth=5)\n",
    "model.fit(X, treatment, y)"
   ]
  },
  {
   "cell_type": "code",
   "execution_count": null,
   "id": "30c21663",
   "metadata": {},
   "outputs": [],
   "source": [
    "uplift = model.predict(X)\n",
    "print('Sample uplift scores:', uplift[:5])"
   ]
  }
 ],
 "metadata": {},
 "nbformat": 4,
 "nbformat_minor": 5
}
