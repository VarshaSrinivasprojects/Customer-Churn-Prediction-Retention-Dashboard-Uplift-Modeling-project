# Uplift Modeling using CausalML

from causalml.inference.tree import UpliftTreeClassifier
from causalml.dataset import synthetic_data

X, treatment, y = synthetic_data(mode=0)

model = UpliftTreeClassifier(max_depth=5)
model.fit(X, treatment, y)
uplift = model.predict(X)
print('Sample uplift scores:', uplift[:5])