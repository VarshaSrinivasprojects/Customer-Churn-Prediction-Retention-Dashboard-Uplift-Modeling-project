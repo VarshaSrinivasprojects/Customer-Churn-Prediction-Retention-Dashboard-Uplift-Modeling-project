# Budget Simulation Using Uplift Scores

import pandas as pd
import numpy as np

# Simulate uplift scores
df = pd.DataFrame({'customer_id': range(1000), 'uplift_score': np.random.rand(1000)})

# Set budget constraints
budget = 10000
cost_per_treatment = 10
n_customers = budget // cost_per_treatment

# Select top-N by uplift
top_customers = df.sort_values(by='uplift_score', ascending=False).head(n_customers)
print('Top customers for targeting:', top_customers.head())