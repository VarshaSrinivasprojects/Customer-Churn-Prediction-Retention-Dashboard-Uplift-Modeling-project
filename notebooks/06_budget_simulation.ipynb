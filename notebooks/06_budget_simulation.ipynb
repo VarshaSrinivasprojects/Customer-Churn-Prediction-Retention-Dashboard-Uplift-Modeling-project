{
 "cells": [
  {
   "cell_type": "markdown",
   "id": "1c2a3adf",
   "metadata": {},
   "source": [
    "# Budget Simulation Using Uplift Scores"
   ]
  },
  {
   "cell_type": "code",
   "execution_count": null,
   "id": "e7b2d66d",
   "metadata": {},
   "outputs": [],
   "source": [
    "import pandas as pd\n",
    "import numpy as np"
   ]
  },
  {
   "cell_type": "code",
   "execution_count": null,
   "id": "25e8d064",
   "metadata": {},
   "outputs": [],
   "source": [
    "df = pd.DataFrame({'customer_id': range(1000), 'uplift_score': np.random.rand(1000)})"
   ]
  },
  {
   "cell_type": "code",
   "execution_count": null,
   "id": "3dbe6912",
   "metadata": {},
   "outputs": [],
   "source": [
    "budget = 10000\n",
    "cost_per_treatment = 10\n",
    "n_customers = budget // cost_per_treatment"
   ]
  },
  {
   "cell_type": "code",
   "execution_count": null,
   "id": "842052b1",
   "metadata": {},
   "outputs": [],
   "source": [
    "top_customers = df.sort_values(by='uplift_score', ascending=False).head(n_customers)"
   ]
  },
  {
   "cell_type": "code",
   "execution_count": null,
   "id": "ef5fc635",
   "metadata": {},
   "outputs": [],
   "source": [
    "print('Top customers to target:', top_customers.head())"
   ]
  }
 ],
 "metadata": {},
 "nbformat": 4,
 "nbformat_minor": 5
}
