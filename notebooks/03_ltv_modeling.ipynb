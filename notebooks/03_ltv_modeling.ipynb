# LTV Modeling by Segment

import pandas as pd
from sklearn.linear_model import LinearRegression

# Load data
df = pd.read_csv('../data/telco_churn.csv')
df['LTV'] = df['MonthlyCharges'] * df['tenure']

X = df[['MonthlyCharges', 'tenure']]
y = df['LTV']

model = LinearRegression()
model.fit(X, y)
print('LTV model score:', model.score(X, y))