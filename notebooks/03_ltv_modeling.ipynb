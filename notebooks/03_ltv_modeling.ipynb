{
 "cells": [
  {
   "cell_type": "markdown",
   "id": "a4cb2058",
   "metadata": {},
   "source": [
    "# LTV Modeling"
   ]
  },
  {
   "cell_type": "code",
   "execution_count": null,
   "id": "f853d34f",
   "metadata": {},
   "outputs": [],
   "source": [
    "import pandas as pd\n",
    "from sklearn.linear_model import LinearRegression"
   ]
  },
  {
   "cell_type": "code",
   "execution_count": null,
   "id": "9649653b",
   "metadata": {},
   "outputs": [],
   "source": [
    "df = pd.read_csv('../data/telco_churn.csv')\n",
    "df['LTV'] = df['MonthlyCharges'] * df['tenure']"
   ]
  },
  {
   "cell_type": "code",
   "execution_count": null,
   "id": "aa53f5cd",
   "metadata": {},
   "outputs": [],
   "source": [
    "X = df[['MonthlyCharges', 'tenure']]\n",
    "y = df['LTV']"
   ]
  },
  {
   "cell_type": "code",
   "execution_count": null,
   "id": "b18bb62c",
   "metadata": {},
   "outputs": [],
   "source": [
    "model = LinearRegression()\n",
    "model.fit(X, y)\n",
    "print('Model Score:', model.score(X, y))"
   ]
  }
 ],
 "metadata": {},
 "nbformat": 4,
 "nbformat_minor": 5
}
