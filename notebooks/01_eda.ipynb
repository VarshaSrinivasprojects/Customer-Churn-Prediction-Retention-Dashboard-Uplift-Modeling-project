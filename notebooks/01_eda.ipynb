# Exploratory Data Analysis for Telco Churn Dataset

import pandas as pd
import seaborn as sns
import matplotlib.pyplot as plt

df = pd.read_csv('../data/telco_churn.csv')
df.info()
df.describe()
sns.countplot(x='Churn', data=df)
plt.title('Churn Distribution')
plt.show()